{
  "nbformat": 4,
  "nbformat_minor": 0,
  "metadata": {
    "colab": {
      "provenance": [],
      "authorship_tag": "ABX9TyMEyTp8zD0CTGL04X/c5i3q",
      "include_colab_link": true
    },
    "kernelspec": {
      "name": "python3",
      "display_name": "Python 3"
    },
    "language_info": {
      "name": "python"
    }
  },
  "cells": [
    {
      "cell_type": "markdown",
      "metadata": {
        "id": "view-in-github",
        "colab_type": "text"
      },
      "source": [
        "<a href=\"https://colab.research.google.com/github/Billy-Mapessa/DATA-/blob/main/PROJECT.ipynb\" target=\"_parent\"><img src=\"https://colab.research.google.com/assets/colab-badge.svg\" alt=\"Open In Colab\"/></a>"
      ]
    },
    {
      "cell_type": "code",
      "execution_count": null,
      "metadata": {
        "id": "GgFnvBn8Cs9O"
      },
      "outputs": [],
      "source": [
        "import pandas as pd\n",
        "import numpy as np\n",
        "import matplotlib.pyplot as plt\n",
        "import seaborn as sns\n",
        "from sklearn.model_selection import train_test_split\n",
        "from sklearn.preprocessing import StandardScaler, LabelEncoder\n",
        "from sklearn.ensemble import RandomForestClassifier\n",
        "from sklearn.metrics import accuracy_score, classification_report\n",
        "\n",
        "# Load dataset (replace 'bank_data.csv' with actual file path)\n",
        "data = pd.read_csv(\"bank_data.csv\")\n",
        "\n",
        "# Explore data\n",
        "print(data.head())\n",
        "print(data.info())\n",
        "\n",
        "# Encode categorical variables\n",
        "label_encoder = LabelEncoder()\n",
        "data['job'] = label_encoder.fit_transform(data['job'])\n",
        "data['marital'] = label_encoder.fit_transform(data['marital'])\n",
        "data['education'] = label_encoder.fit_transform(data['education'])\n",
        "data['default'] = label_encoder.fit_transform(data['default'])\n",
        "data['housing'] = label_encoder.fit_transform(data['housing'])\n",
        "data['loan'] = label_encoder.fit_transform(data['loan'])\n",
        "data['contact'] = label_encoder.fit_transform(data['contact'])\n",
        "data['month'] = label_encoder.fit_transform(data['month'])\n",
        "data['poutcome'] = label_encoder.fit_transform(data['poutcome'])\n",
        "data['y'] = label_encoder.fit_transform(data['y']) # Target variable\n",
        "\n",
        "# Feature selection\n",
        "X = data.drop(columns=['y'])  # Independent variables\n",
        "y = data['y']  # Dependent variable\n",
        "\n",
        "# Train-test split\n",
        "X_train, X_test, y_train, y_test = train_test_split(X, y, test_size=0.2, random_state=42)\n",
        "\n",
        "# Standardize features\n",
        "scaler = StandardScaler()\n",
        "X_train = scaler.fit_transform(X_train)\n",
        "X_test = scaler.transform(X_test)\n",
        "\n",
        "# Train model\n",
        "model = RandomForestClassifier(n_estimators=100, random_state=42)\n",
        "model.fit(X_train, y_train)\n",
        "\n",
        "# Predict on test data\n",
        "y_pred = model.predict(X_test)\n",
        "\n",
        "# Evaluate performance\n",
        "accuracy = accuracy_score(y_test, y_pred)\n",
        "print(f\"Model Accuracy: {accuracy:.2f}\")\n",
        "print(classification_report(y_test, y_pred))\n",
        "\n",
        "# Feature importance visualization\n",
        "feature_importances = model.feature_importances_\n",
        "features = X.columns\n",
        "sorted_idx = np.argsort(feature_importances)[::-1]\n",
        "plt.figure(figsize=(10, 6))\n",
        "sns.barplot(x=feature_importances[sorted_idx], y=features[sorted_idx])\n",
        "plt.title(\"Feature Importance\")\n",
        "plt.show()\n"
      ]
    }
  ]
}
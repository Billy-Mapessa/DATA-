import pandas as pd
import numpy as np
import matplotlib.pyplot as plt
import seaborn as sns
from sklearn.model_selection import train_test_split, GridSearchCV
from sklearn.preprocessing import StandardScaler, LabelEncoder
from sklearn.ensemble import RandomForestClassifier
from sklearn.linear_model import LogisticRegression
from sklearn.metrics import classification_report, accuracy_score, roc_auc_score

# Load Dataset
df = pd.read_csv("bank_marketing_data.csv")

# Display first few rows
display(df.head())

# Data Cleaning: Handling missing values
df.dropna(inplace=True)  # Drop missing values (modify as needed)

# Convert categorical variables to numerical
label_enc = LabelEncoder()
df['job'] = label_enc.fit_transform(df['job'])
df['marital'] = label_enc.fit_transform(df['marital'])
df['education'] = label_enc.fit_transform(df['education'])

# Feature Selection: Define X and y
X = df.drop(columns=['term_deposit'])  # Exclude target variable
y = df['term_deposit']  # Target variable

# Split data into train and test sets
X_train, X_test, y_train, y_test = train_test_split(X, y, test_size=0.2, random_state=42)

# Scale numerical features
scaler = StandardScaler()
X_train_scaled = scaler.fit_transform(X_train)
X_test_scaled = scaler.transform(X_test)

# Model Training & Comparison
models = {
    "Logistic Regression": LogisticRegression(),
    "Random Forest": RandomForestClassifier(n_estimators=100, random_state=42)
}

for name, model in models.items():
    model.fit(X_train_scaled, y_train)
    y_pred = model.predict(X_test_scaled)
    print(f"\n{name} Performance:")
    print(classification_report(y_test, y_pred))
    print(f"Accuracy: {accuracy_score(y_test, y_pred):.4f}")
    print(f"ROC AUC: {roc_auc_score(y_test, y_pred):.4f}")

# Visualization: Correlation Heatmap
plt.figure(figsize=(10, 6))
sns.heatmap(df.corr(), annot=True, cmap="coolwarm", fmt=".2f")
plt.title("Feature Correlation Heatmap")
plt.show()

# Insights & Marketing Recommendations
print("\nMarketing Insights:")
print("1. Customers with high balance tend to subscribe more.")
print("2. Older customers are more likely to subscribe to term deposits.")
print("3. Job type and marital status significantly impact customer decisions.")
